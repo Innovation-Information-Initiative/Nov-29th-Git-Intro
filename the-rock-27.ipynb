{
 "metadata": {
  "name": ""
 },
 "nbformat": 3,
 "nbformat_minor": 0,
 "worksheets": [
  {
   "cells": [
    {
     "cell_type": "heading",
     "level": 1,
     "metadata": {},
     "source": [
      "On Being The Rock"
     ]
    },
    {
     "cell_type": "markdown",
     "metadata": {},
     "source": [
      "Sometimes you realize that you are not just a rock, but The Rock.  This is that story."
     ]
    } ]
  } ]
}
